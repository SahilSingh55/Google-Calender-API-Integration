{
 "cells": [
  {
   "cell_type": "markdown",
   "id": "1c06663b",
   "metadata": {},
   "source": [
    "# Integrating Google Calender API in Python Projects\n",
    "## Author:- Sahil Singh"
   ]
  },
  {
   "cell_type": "markdown",
   "id": "d6ec550e",
   "metadata": {},
   "source": [
    "## Installation\n",
    "#### pip install google-api-python-client\n",
    "#### pip install google_auth_oauthlib"
   ]
  },
  {
   "cell_type": "markdown",
   "id": "c09d4f59",
   "metadata": {},
   "source": [
    "## OAuth 2.0 Setup"
   ]
  },
  {
   "cell_type": "code",
   "execution_count": 1,
   "id": "93eaaceb",
   "metadata": {},
   "outputs": [],
   "source": [
    "from apiclient.discovery import build\n",
    "from google_auth_oauthlib.flow import InstalledAppFlow"
   ]
  },
  {
   "cell_type": "code",
   "execution_count": 2,
   "id": "c0060e12",
   "metadata": {},
   "outputs": [],
   "source": [
    "scopes = ['https://www.googleapis.com/auth/calendar']"
   ]
  },
  {
   "cell_type": "code",
   "execution_count": 3,
   "id": "2f4d1faf",
   "metadata": {},
   "outputs": [],
   "source": [
    "flow = InstalledAppFlow.from_client_secrets_file(\"client_secret.json\", scopes=scopes)"
   ]
  },
  {
   "cell_type": "code",
   "execution_count": 6,
   "id": "650462f7",
   "metadata": {},
   "outputs": [
    {
     "name": "stdout",
     "output_type": "stream",
     "text": [
      "Please visit this URL to authorize this application: https://accounts.google.com/o/oauth2/auth?response_type=code&client_id=806428531141-2ophpeji2lf7pq0trjo6k846t6h5kd7b.apps.googleusercontent.com&redirect_uri=urn%3Aietf%3Awg%3Aoauth%3A2.0%3Aoob&scope=https%3A%2F%2Fwww.googleapis.com%2Fauth%2Fcalendar&state=yrTDr5yq5tNwIRuOBRM8bfDq1LjVcs&prompt=consent&access_type=offline\n",
      "Enter the authorization code: 4/1AdQt8qioaxTe_Co_j77eCi_K2dTJRxJVWZ1NB97GFZ8iuBuZAGcI3AbF2zQ\n"
     ]
    }
   ],
   "source": [
    "credentials = flow.run_console()"
   ]
  },
  {
   "cell_type": "code",
   "execution_count": 11,
   "id": "f26ca964",
   "metadata": {},
   "outputs": [],
   "source": [
    "import pickle"
   ]
  },
  {
   "cell_type": "code",
   "execution_count": 13,
   "id": "c17c38c7",
   "metadata": {},
   "outputs": [],
   "source": [
    "pickle.dump(credentials, open(\"token.pkl\",\"wb\"))"
   ]
  },
  {
   "cell_type": "code",
   "execution_count": 14,
   "id": "3bdb24b6",
   "metadata": {},
   "outputs": [],
   "source": [
    "credentials = pickle.load(open(\"token.pkl\",\"rb\"))"
   ]
  },
  {
   "cell_type": "code",
   "execution_count": 15,
   "id": "df257ef6",
   "metadata": {},
   "outputs": [],
   "source": [
    "service = build(\"calendar\",\"v3\",credentials=credentials)"
   ]
  },
  {
   "cell_type": "markdown",
   "id": "5216d346",
   "metadata": {},
   "source": [
    "## Get My Calendars"
   ]
  },
  {
   "cell_type": "code",
   "execution_count": 17,
   "id": "eabe5d8d",
   "metadata": {},
   "outputs": [],
   "source": [
    "result = service.calendarList().list().execute()"
   ]
  },
  {
   "cell_type": "code",
   "execution_count": 19,
   "id": "18c8fd85",
   "metadata": {},
   "outputs": [
    {
     "data": {
      "text/plain": [
       "{'kind': 'calendar#calendarListEntry',\n",
       " 'etag': '\"1565628578530000\"',\n",
       " 'id': 'sahilgsingh55.gs@gmail.com',\n",
       " 'summary': 'sahilgsingh55.gs@gmail.com',\n",
       " 'timeZone': 'Asia/Kolkata',\n",
       " 'colorId': '14',\n",
       " 'backgroundColor': '#9fe1e7',\n",
       " 'foregroundColor': '#000000',\n",
       " 'selected': True,\n",
       " 'accessRole': 'owner',\n",
       " 'defaultReminders': [{'method': 'popup', 'minutes': 30}],\n",
       " 'notificationSettings': {'notifications': [{'type': 'eventCreation',\n",
       "    'method': 'email'},\n",
       "   {'type': 'eventChange', 'method': 'email'},\n",
       "   {'type': 'eventCancellation', 'method': 'email'},\n",
       "   {'type': 'eventResponse', 'method': 'email'}]},\n",
       " 'primary': True,\n",
       " 'conferenceProperties': {'allowedConferenceSolutionTypes': ['hangoutsMeet']}}"
      ]
     },
     "execution_count": 19,
     "metadata": {},
     "output_type": "execute_result"
    }
   ],
   "source": [
    "result['items'][0]"
   ]
  },
  {
   "cell_type": "markdown",
   "id": "d591a06f",
   "metadata": {},
   "source": [
    "## Get My Calendar Events"
   ]
  },
  {
   "cell_type": "code",
   "execution_count": 22,
   "id": "e830b90d",
   "metadata": {},
   "outputs": [],
   "source": [
    "calendar_id = result['items'][0]['id']"
   ]
  },
  {
   "cell_type": "code",
   "execution_count": 28,
   "id": "b51e6133",
   "metadata": {},
   "outputs": [],
   "source": [
    "result = service.events().list(calendarId=calendar_id, timeZone='Asia/Kolkata').execute()"
   ]
  },
  {
   "cell_type": "code",
   "execution_count": 29,
   "id": "8e1f0198",
   "metadata": {},
   "outputs": [
    {
     "data": {
      "text/plain": [
       "{'kind': 'calendar#event',\n",
       " 'etag': '\"3288143514282000\"',\n",
       " 'id': '11bbv1b18l35fp5g5au1mt8rgl',\n",
       " 'status': 'confirmed',\n",
       " 'htmlLink': 'https://www.google.com/calendar/event?eid=MTFiYnYxYjE4bDM1ZnA1ZzVhdTFtdDhyZ2wgc2FoaWxnc2luZ2g1NS5nc0Bt&ctz=Asia/Kolkata',\n",
       " 'created': '2022-02-04T16:06:30.000Z',\n",
       " 'updated': '2022-02-05T14:35:57.141Z',\n",
       " 'summary': '[IMP] Scaler CodeX 2.0 | Contest',\n",
       " 'description': '<u></u><u></u><p>You are invited to participate in Scaler CodeX 2.0.</p><p>To make it easier for you, here are two simple steps to follow:</p><p></p><ul><li>Visit This Page - <a href=\"https://www.scaler.com/event/scaler-codex-2-0/\" target=\"_blank\">https://bit.ly/codexbyscaler</a></li><li>Click The <b><u>Attempt Test</u></b> Button<br></li></ul><p></p><p>Please note that <b>this button will be live at exactly 6PM IST on February 6 (Sunday)</b> and will only be available till the contest ends i.e. 9PM IST.</p><p>It&#39;s time to #LiveTheCode. All the Best!<br></p><u></u><u></u>',\n",
       " 'location': 'https://bit.ly/codexbyscaler',\n",
       " 'creator': {'email': 'shivay.lamba@scaler.com'},\n",
       " 'organizer': {'email': 'shivay.lamba@scaler.com'},\n",
       " 'start': {'dateTime': '2022-02-06T18:00:00+05:30',\n",
       "  'timeZone': 'Asia/Kolkata'},\n",
       " 'end': {'dateTime': '2022-02-06T21:00:00+05:30', 'timeZone': 'Asia/Kolkata'},\n",
       " 'iCalUID': '11bbv1b18l35fp5g5au1mt8rgl@google.com',\n",
       " 'sequence': 0,\n",
       " 'attendees': [{'email': 'sahilgsingh55.gs@gmail.com',\n",
       "   'self': True,\n",
       "   'responseStatus': 'needsAction'}],\n",
       " 'guestsCanInviteOthers': False,\n",
       " 'guestsCanSeeOtherGuests': False,\n",
       " 'reminders': {'useDefault': True},\n",
       " 'eventType': 'default'}"
      ]
     },
     "execution_count": 29,
     "metadata": {},
     "output_type": "execute_result"
    }
   ],
   "source": [
    "result['items'][0]"
   ]
  },
  {
   "cell_type": "markdown",
   "id": "8f5bff2a",
   "metadata": {},
   "source": [
    "## Create a New Calendar Event"
   ]
  },
  {
   "cell_type": "code",
   "execution_count": 30,
   "id": "850921b0",
   "metadata": {},
   "outputs": [],
   "source": [
    "from datetime import datetime, timedelta"
   ]
  },
  {
   "cell_type": "code",
   "execution_count": 35,
   "id": "e4663b6f",
   "metadata": {},
   "outputs": [],
   "source": [
    "start_time = datetime(2022, 7, 6, 20, 30, 0)\n",
    "end_time = start_time + timedelta(hours=4)\n",
    "timeZone = 'Asia/Kolkata'"
   ]
  },
  {
   "cell_type": "code",
   "execution_count": 36,
   "id": "c0152888",
   "metadata": {},
   "outputs": [
    {
     "data": {
      "text/plain": [
       "datetime.datetime(2022, 7, 6, 20, 30)"
      ]
     },
     "execution_count": 36,
     "metadata": {},
     "output_type": "execute_result"
    }
   ],
   "source": [
    "start_time"
   ]
  },
  {
   "cell_type": "code",
   "execution_count": 37,
   "id": "e1afd1d2",
   "metadata": {},
   "outputs": [],
   "source": [
    "event = {\n",
    "  'summary': 'Submission of Assignment 2022',\n",
    "  'location': 'Mumbai',\n",
    "  'description': 'Submitting assignment of internship',\n",
    "  'start': {\n",
    "    'dateTime': start_time.strftime(\"%Y-%m-%dT%H:%M:%S\"),\n",
    "    'timeZone': timeZone,\n",
    "  },\n",
    "  'end': {\n",
    "    'dateTime': end_time.strftime(\"%Y-%m-%dT%H:%M:%S\"),\n",
    "    'timeZone': timeZone,\n",
    "  },\n",
    "  'reminders': {\n",
    "    'useDefault': False,\n",
    "    'overrides': [\n",
    "      {'method': 'email', 'minutes': 24 * 60},\n",
    "      {'method': 'popup', 'minutes': 10},\n",
    "    ],\n",
    "  },\n",
    "}"
   ]
  },
  {
   "cell_type": "code",
   "execution_count": 38,
   "id": "4706f3b8",
   "metadata": {},
   "outputs": [
    {
     "data": {
      "text/plain": [
       "{'kind': 'calendar#event',\n",
       " 'etag': '\"3314240543513000\"',\n",
       " 'id': 'umcgqmvnn0ifjh29a30c860824',\n",
       " 'status': 'confirmed',\n",
       " 'htmlLink': 'https://www.google.com/calendar/event?eid=dW1jZ3Ftdm5uMGlmamgyOWEzMGM4NjA4MjQgc2FoaWxnc2luZ2g1NS5nc0Bt',\n",
       " 'created': '2022-07-06T15:11:11.000Z',\n",
       " 'updated': '2022-07-06T15:11:11.794Z',\n",
       " 'summary': 'Submission of Assignment 2022',\n",
       " 'description': 'Submitting assignment of internship',\n",
       " 'location': 'Mumbai',\n",
       " 'creator': {'email': 'sahilgsingh55.gs@gmail.com', 'self': True},\n",
       " 'organizer': {'email': 'sahilgsingh55.gs@gmail.com', 'self': True},\n",
       " 'start': {'dateTime': '2022-07-06T20:30:00+05:30',\n",
       "  'timeZone': 'Asia/Kolkata'},\n",
       " 'end': {'dateTime': '2022-07-07T00:30:00+05:30', 'timeZone': 'Asia/Kolkata'},\n",
       " 'iCalUID': 'umcgqmvnn0ifjh29a30c860824@google.com',\n",
       " 'sequence': 0,\n",
       " 'reminders': {'useDefault': False,\n",
       "  'overrides': [{'method': 'email', 'minutes': 1440},\n",
       "   {'method': 'popup', 'minutes': 10}]},\n",
       " 'eventType': 'default'}"
      ]
     },
     "execution_count": 38,
     "metadata": {},
     "output_type": "execute_result"
    }
   ],
   "source": [
    "service.events().insert(calendarId=calendar_id, body=event).execute()"
   ]
  },
  {
   "cell_type": "code",
   "execution_count": null,
   "id": "64f3f8da",
   "metadata": {},
   "outputs": [],
   "source": []
  }
 ],
 "metadata": {
  "kernelspec": {
   "display_name": "Python 3",
   "language": "python",
   "name": "python3"
  },
  "language_info": {
   "codemirror_mode": {
    "name": "ipython",
    "version": 3
   },
   "file_extension": ".py",
   "mimetype": "text/x-python",
   "name": "python",
   "nbconvert_exporter": "python",
   "pygments_lexer": "ipython3",
   "version": "3.8.8"
  }
 },
 "nbformat": 4,
 "nbformat_minor": 5
}
