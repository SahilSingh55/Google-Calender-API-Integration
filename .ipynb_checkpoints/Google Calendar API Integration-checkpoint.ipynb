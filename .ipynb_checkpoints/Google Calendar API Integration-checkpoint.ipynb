{
 "cells": [
  {
   "cell_type": "markdown",
   "id": "1c06663b",
   "metadata": {},
   "source": [
    "# Integrating Google Calender API in Python Projects"
   ]
  },
  {
   "cell_type": "markdown",
   "id": "d6ec550e",
   "metadata": {},
   "source": [
    "## Installation\n",
    "#### pip install google-api-python-client\n",
    "#### pip install google_auth_oauthlib"
   ]
  },
  {
   "cell_type": "markdown",
   "id": "c09d4f59",
   "metadata": {},
   "source": [
    "## OAuth 2.0 Setup"
   ]
  },
  {
   "cell_type": "code",
   "execution_count": 3,
   "id": "93eaaceb",
   "metadata": {},
   "outputs": [],
   "source": [
    "from apiclient.discovery import build\n",
    "from google_auth_oauthlib.flow import InstalledAppFlow"
   ]
  },
  {
   "cell_type": "code",
   "execution_count": 4,
   "id": "c0060e12",
   "metadata": {},
   "outputs": [],
   "source": [
    "scopes = ['https://www.googleapis.com/auth/calendar']"
   ]
  },
  {
   "cell_type": "code",
   "execution_count": 5,
   "id": "2f4d1faf",
   "metadata": {},
   "outputs": [],
   "source": [
    "flow = InstalledAppFlow.from_client_secrets_file(\"client_secret.json\", scopes=scopes)"
   ]
  },
  {
   "cell_type": "code",
   "execution_count": null,
   "id": "a32a9372",
   "metadata": {},
   "outputs": [
    {
     "name": "stdout",
     "output_type": "stream",
     "text": [
      "Please visit this URL to authorize this application: https://accounts.google.com/o/oauth2/auth?response_type=code&client_id=806428531141-1n9s2c6n936keep3vjk2vcvn4j9mvu9k.apps.googleusercontent.com&redirect_uri=urn%3Aietf%3Awg%3Aoauth%3A2.0%3Aoob&scope=https%3A%2F%2Fwww.googleapis.com%2Fauth%2Fcalendar&state=vaPKpHe6KA55qrXCzjbrzfxcIhfHRq&prompt=consent&access_type=offline\n"
     ]
    }
   ],
   "source": [
    "flow.run_console()"
   ]
  },
  {
   "cell_type": "code",
   "execution_count": null,
   "id": "19833510",
   "metadata": {},
   "outputs": [],
   "source": []
  },
  {
   "cell_type": "code",
   "execution_count": null,
   "id": "3bdb24b6",
   "metadata": {},
   "outputs": [],
   "source": []
  },
  {
   "cell_type": "markdown",
   "id": "5216d346",
   "metadata": {},
   "source": [
    "## Get My Calendars"
   ]
  },
  {
   "cell_type": "code",
   "execution_count": null,
   "id": "eabe5d8d",
   "metadata": {},
   "outputs": [],
   "source": []
  },
  {
   "cell_type": "markdown",
   "id": "d591a06f",
   "metadata": {},
   "source": [
    "## Get My Calendar Events"
   ]
  },
  {
   "cell_type": "code",
   "execution_count": null,
   "id": "b51e6133",
   "metadata": {},
   "outputs": [],
   "source": []
  },
  {
   "cell_type": "markdown",
   "id": "8f5bff2a",
   "metadata": {},
   "source": [
    "## Create a New Calendar Event"
   ]
  },
  {
   "cell_type": "code",
   "execution_count": null,
   "id": "e1afd1d2",
   "metadata": {},
   "outputs": [],
   "source": []
  }
 ],
 "metadata": {
  "kernelspec": {
   "display_name": "Python 3",
   "language": "python",
   "name": "python3"
  },
  "language_info": {
   "codemirror_mode": {
    "name": "ipython",
    "version": 3
   },
   "file_extension": ".py",
   "mimetype": "text/x-python",
   "name": "python",
   "nbconvert_exporter": "python",
   "pygments_lexer": "ipython3",
   "version": "3.8.8"
  }
 },
 "nbformat": 4,
 "nbformat_minor": 5
}
